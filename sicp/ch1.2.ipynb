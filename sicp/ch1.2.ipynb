{
 "cells": [
  {
   "cell_type": "markdown",
   "metadata": {},
   "source": [
    "Exercise 1.9\n",
    "\n",
    "The first process is recursive, second iterative."
   ]
  },
  {
   "cell_type": "raw",
   "metadata": {},
   "source": [
    "Exercise 1.10\n",
    "\n",
    "Exploring the recursive calls of A..\n",
    "(A 1 10) is\n",
    "(A 0 (A 1 9))\n",
    "(A 0 (A 0 (A 1 8)))\n",
    "(A 0 (A 0 (A 0 (A 1 7))))\n",
    "(A 0 (A 0 (A 0 (A 0 (A 1 6)))))\n",
    "(A 0 (A 0 (A 0 (A 0 (A 0 (A 1 5))))))\n",
    "(A 0 (A 0 (A 0 (A 0 (A 0 (A 0 (A 1 4)))))))\n",
    "(A 0 (A 0 (A 0 (A 0 (A 0 (A 0 (A 0 (A 1 3))))))))\n",
    "(A 0 (A 0 (A 0 (A 0 (A 0 (A 0 (A 0 (A 0 (A 1 2)))))))))\n",
    "(A 0 (A 0 (A 0 (A 0 (A 0 (A 0 (A 0 (A 0 (A 0 (A 1 1))))))))))\n",
    "(A 0 (A 0 (A 0 (A 0 (A 0 (A 0 (A 0 (A 0 (A 0 2)))))))))\n",
    "(A 0 (A 0 (A 0 (A 0 (A 0 (A 0 (A 0 (A 0 4))))))))\n",
    "(A 0 (A 0 (A 0 (A 0 (A 0 (A 0 (A 0 8)))))))\n",
    "(A 0 (A 0 (A 0 (A 0 (A 0 (A 0 16))))))\n",
    "(A 0 (A 0 (A 0 (A 0 (A 0 32)))))\n",
    "(A 0 (A 0 (A 0 (A 0 64))))\n",
    "(A 0 (A 0 (A 0 128)))\n",
    "(A 0 (A 0 256))\n",
    "(A 0 512)\n",
    "1024 (This is 2^10)\n",
    "\n",
    "(A 2 4) is\n",
    "(A 1 (A 2 3))\n",
    "(A 1 (A 1 (A 2 2)))\n",
    "(A 1 (A 1 (A 1 (A 2 1))))\n",
    "(A 1 (A 1 (A 1 2)))\n",
    "(A 1 (A 1 (A 0 (A 1 1))))\n",
    "(A 1 (A 1 (A 0 2)))\n",
    "(A 1 (A 1 4))\n",
    "(A 1 (A 0 (A 1 3)))\n",
    "(A 1 (A 0 (A 0 (A 1 2))))\n",
    "(A 1 (A 0 (A 0 (A 0 (A 1 1)))))\n",
    "(A 1 (A 0 (A 0 (A 0 2))))\n",
    "(A 1 (A 0 (A 0 4)))\n",
    "(A 1 (A 0 8))\n",
    "(A 1 16)\n",
    "By interpolation from above, this should be 2^16 = 65536"
   ]
  },
  {
   "cell_type": "raw",
   "metadata": {},
   "source": [
    "Ans:\n",
    "(define (f n) (A 0 n)) computes 2*n\n",
    "(define (g n) (A 1 n)) computes 2^n\n",
    "(define (h n) (A 2 n)) computes 16^(n-2)"
   ]
  },
  {
   "cell_type": "raw",
   "metadata": {},
   "source": [
    "Exercise 1.11.\n",
    "A function f is defined by the rule that f(n) = n if n<3 and f(n) = f(n - 1) + 2f(n - 2) + 3f(n - 3) if n> 3.\n",
    "Write a procedure that computes f by means of a recursive process."
   ]
  },
  {
   "cell_type": "code",
   "execution_count": 1,
   "metadata": {},
   "outputs": [
    {
     "data": {
      "text/plain": [
       "f-rec"
      ]
     },
     "execution_count": 1,
     "metadata": {},
     "output_type": "execute_result"
    }
   ],
   "source": [
    "(define (f-rec n)\n",
    "  (if (< n 3)\n",
    "    n\n",
    "    (+ (f-rec (- n 1)) (* (f-rec (- n 2)) 2) (* (f-rec (- n 3)) 3))\n",
    "  )\n",
    ")"
   ]
  },
  {
   "cell_type": "markdown",
   "metadata": {},
   "source": [
    "Write a procedure that computes f by means of an iterative process."
   ]
  },
  {
   "cell_type": "code",
   "execution_count": 2,
   "metadata": {},
   "outputs": [
    {
     "data": {
      "text/plain": [
       "f"
      ]
     },
     "execution_count": 2,
     "metadata": {},
     "output_type": "execute_result"
    }
   ],
   "source": [
    "(define (f n)\n",
    "  (define (f-recur curr prev prevprev count)\n",
    "    (if (< n count)\n",
    "      curr\n",
    "      (f-recur (+ curr (* prev 2) (* 3 prevprev)) curr prev (+ count 1))\n",
    "    )\n",
    "  )\n",
    "  (if (< n 3)\n",
    "      n\n",
    "      (f-recur 2 1 0 3)\n",
    "  )\n",
    ")"
   ]
  },
  {
   "cell_type": "code",
   "execution_count": 3,
   "metadata": {},
   "outputs": [
    {
     "data": {
      "text/plain": [
       "#t"
      ]
     },
     "execution_count": 3,
     "metadata": {},
     "output_type": "execute_result"
    }
   ],
   "source": [
    "(= (f 10) (f-rec 10))\n",
    "(= (f 5) (f-rec 5))"
   ]
  },
  {
   "cell_type": "markdown",
   "metadata": {},
   "source": [
    "Exercise 1.12.\n",
    "Write a procedure that computes elements of Pascal's triangle by means of a recursive process."
   ]
  },
  {
   "cell_type": "code",
   "execution_count": 4,
   "metadata": {},
   "outputs": [
    {
     "data": {
      "text/plain": [
       "pascal"
      ]
     },
     "execution_count": 4,
     "metadata": {},
     "output_type": "execute_result"
    }
   ],
   "source": [
    "(define (second xs)\n",
    "  (car (cdr xs))\n",
    ")\n",
    "\n",
    "(define (pascal lines)\n",
    "  (define (calc-pascal xs)\n",
    "    (if (< (length xs) 2)\n",
    "      '()\n",
    "      (cons (+ (car xs) (second xs)) (calc-pascal (cdr xs)))\n",
    "    )\n",
    "  )\n",
    "  (define (pascal-recur xs count)\n",
    "    (if (< count lines)\n",
    "      (begin\n",
    "        (display xs)(display \"\\n\")\n",
    "        (pascal-recur  (append '(1) (calc-pascal xs) '(1)) (+ count 1))\n",
    "      )\n",
    "    )\n",
    "  )\n",
    "  (pascal-recur '(1) 0)\n",
    ")"
   ]
  },
  {
   "cell_type": "code",
   "execution_count": 6,
   "metadata": {},
   "outputs": [
    {
     "ename": "unbound-variable",
     "evalue": "Unbound variable: pascal",
     "output_type": "error",
     "traceback": [
      "\u001b[31mUnbound variable: pascal\u001b[0m"
     ]
    }
   ],
   "source": [
    "(pascal 10)"
   ]
  },
  {
   "cell_type": "markdown",
   "metadata": {},
   "source": [
    "Exercise 1.13.  Prove that Fib(n) is the closest integer to n/5, where  = (1 + 5)/2. Hint: Let  = (1 - 5)/2. Use induction and the definition of the Fibonacci numbers (see section 1.2.2) to prove that Fib(n) = (n - n)/5."
   ]
  },
  {
   "cell_type": "markdown",
   "metadata": {},
   "source": [
    "Ans:\n",
    "First prove the second statement through induction (key: \\phi = 1 + 1/\\phi and \\psi = 1 + 1/\\psi)\n",
    "Now to prove the first statement, given second statement, we have to show abs(\\psi^k/sqrt(5)) < 0.5. for k = 1, it's 1/sqrt(5), and it's a geometric series with abs(r) < 1 so converges to 0 for large k by alternating series test (or common sense)"
   ]
  },
  {
   "cell_type": "markdown",
   "metadata": {},
   "source": [
    "Exercise 1.14.  Draw the tree illustrating the process generated by the count-change procedure of section 1.2.2 in making change for 11 cents.\n",
    "What are the orders of growth of the space and number of steps used by this process as the amount to be changed increases?\n",
    "Done in ex1.14.md and ex114.dot"
   ]
  },
  {
   "cell_type": "raw",
   "metadata": {},
   "source": [
    "Exercise 1.15.  The sine of an angle (specified in radians) can be computed by making use of the approximation sin x  x if x is sufficiently small, and the trigonometric identity\n",
    "a.  How many times is the procedure p applied when (sine 12.15) is evaluated?"
   ]
  },
  {
   "cell_type": "raw",
   "metadata": {},
   "source": [
    "(sine 12.15)\n",
    "(p (sine 4.05))\n",
    "(p (p (sine 1.35)))\n",
    "(p (p (p (sine 0.45))))\n",
    "(p (p (p (p (sine 0.15)))))\n",
    "(p (p (p (p (p (sine 0.05))))))\n",
    "(p (p (p (p (p 0.05)))))\n",
    "(p (p (p (p 0.1495))))\n",
    "...\n",
    "p is applied 5 times. In general, p is applied the number of time we have to\n",
    "divide a by 3 for the result of the division to be smaller than 0.1."
   ]
  },
  {
   "cell_type": "raw",
   "metadata": {},
   "source": [
    "b.  What is the order of growth in space and number of steps (as a function of a) used by the process generated by the sine procedure when (sine a) is evaluated?\n",
    "\n",
    "The number of times we have to divide a by 3 for the result of the division to be\n",
    "less than 0.1 is log_3{10a}. (log_3{a} will give us the number of time we have divide a by 3 for it to be less than 1, and thus log_3{10a} is the number of times we have to divide a by 3 for it to be less than 0.1).\n",
    "\n",
    "The maximum space is use for remembering the number of time we have to apply p after `sine` evaluated to a number. Thus, we have to remember to apply p log_3{10a} times. Supressing constant factors, we see that space grows as O(log{a}).\n",
    "\n",
    "Number of steps:\n",
    "Everytime sine doesn't evalaute to a number, we have to do a division (thus, log_3{10a} divisions in total). Everytime p is called, we do 4 divisions, 1 subtraction, and 5 multpilcations. A total of 10 ops. Thus, we do a total of log_3{10a} + log_3{10a}(10) = 11 (log_3{10a}). Thus, O(log{a})."
   ]
  },
  {
   "cell_type": "raw",
   "metadata": {},
   "source": [
    "Exercise 1.16.  Design a procedure that evolves an iterative exponentiation process that uses successive squaring and uses a logarithmic number of steps, as does fast-expt."
   ]
  },
  {
   "cell_type": "code",
   "execution_count": 1,
   "metadata": {},
   "outputs": [
    {
     "data": {
      "text/plain": [
       "expt"
      ]
     },
     "execution_count": 1,
     "metadata": {},
     "output_type": "execute_result"
    }
   ],
   "source": [
    "(define (square x)\n",
    "  (* x x)\n",
    ")\n",
    "\n",
    "(define (expt x b)\n",
    "  (define (expt-iter num pow prod)\n",
    "      (cond ((= 1 pow) (* prod num))\n",
    "        ((even? pow) (expt-iter (square num) (/ pow 2) prod))\n",
    "        (else (expt-iter num (- pow 1) (* prod num)))\n",
    "      )\n",
    "  )\n",
    "  (if (= b 0)\n",
    "    1\n",
    "    (expt-iter x b 1)\n",
    "  )\n",
    ")"
   ]
  },
  {
   "cell_type": "raw",
   "metadata": {},
   "source": [
    "Exercise 1.17.  The exponentiation algorithms in this section are based on performing exponentiation by means of repeated multiplication. In a similar way, one can perform integer multiplication by means of repeated addition. The following multiplication\n",
    "procedure (in which it is assumed that our language can only add, not multiply) is\n",
    "analogous to the expt procedure:\n",
    "\n",
    "(define (* a b)\n",
    "  (if (= b 0)\n",
    "      0\n",
    "      (+ a (* a (- b 1)))))\n",
    "\n",
    "This algorithm takes a number of steps that is linear in b. Now suppose we include,\n",
    "together with addition, operations double, which doubles an integer, and halve,\n",
    "which divides an (even) integer by 2. Using these, design a multiplication procedure\n",
    "analogous to fast-expt that uses a logarithmic number of steps.\n"
   ]
  },
  {
   "cell_type": "code",
   "execution_count": 2,
   "metadata": {},
   "outputs": [
    {
     "data": {
      "text/plain": [
       "mult"
      ]
     },
     "execution_count": 2,
     "metadata": {},
     "output_type": "execute_result"
    }
   ],
   "source": [
    "(define (double x) (+ x x))\n",
    "(define (halve x) (/ x 2))\n",
    "\n",
    "(define (mult a b)\n",
    "  (cond ((= b 0) 0)\n",
    "        ((even? b) (double (mult a (halve b))))\n",
    "        (else (+ a (mult a (- b 1))))\n",
    "  )\n",
    ")"
   ]
  },
  {
   "cell_type": "raw",
   "metadata": {},
   "source": [
    "Exercise 1.18.  Using the results of exercises 1.16 and 1.17, devise a procedure that generates an iterative process for multiplying two integers in terms of adding, doubling, and halving and uses a logarithmic number of steps."
   ]
  },
  {
   "cell_type": "code",
   "execution_count": 3,
   "metadata": {},
   "outputs": [
    {
     "data": {
      "text/plain": [
       "mult-iter"
      ]
     },
     "execution_count": 3,
     "metadata": {},
     "output_type": "execute_result"
    }
   ],
   "source": [
    "(define (mult-iter a b)\n",
    "  (define (recur x y sum)\n",
    "    (cond ((= y 0) sum)\n",
    "        ((even? y) (recur (double x) (halve y) sum))\n",
    "        (else (recur x (- y 1) (+ sum x)))\n",
    "    )\n",
    "  )\n",
    "  (recur a b 0)\n",
    ")"
   ]
  },
  {
   "cell_type": "code",
   "execution_count": 4,
   "metadata": {},
   "outputs": [
    {
     "data": {
      "text/plain": [
       "20"
      ]
     },
     "execution_count": 4,
     "metadata": {},
     "output_type": "execute_result"
    }
   ],
   "source": [
    "(mult 4 5)"
   ]
  },
  {
   "cell_type": "code",
   "execution_count": 5,
   "metadata": {},
   "outputs": [
    {
     "data": {
      "text/plain": [
       "50"
      ]
     },
     "execution_count": 5,
     "metadata": {},
     "output_type": "execute_result"
    }
   ],
   "source": [
    "(mult-iter 5 10)"
   ]
  },
  {
   "cell_type": "raw",
   "metadata": {},
   "source": [
    "Exercise 1.19.   There is a clever algorithm for computing the Fibonacci numbers in a logarithmic number of steps. Recall the transformation of the state variables a and b in the fib-iter process of section 1.2.2: a  a + b and b  a. Call this transformation T, and observe that applying T over and over again n times, starting with 1 and 0, produces the pair Fib(n + 1) and Fib(n). In other words, the Fibonacci numbers are produced by applying Tn, the nth power of the transformation T, starting with the pair (1,0). \n",
    "\n",
    "Now consider T to be the special case of p = 0 and q = 1 in a family of transformations Tpq, where Tpq transforms the pair (a,b) according to a  bq + aq + ap and b  bp + aq. Show that if we apply such a transformation Tpq twice, the effect is the same as using a single transformation Tp'q' of the same form, and compute p' and q' in terms of p and q. This gives us an explicit way to square these transformations, and thus we can compute Tn using successive squaring, as in the fast-expt procedure. Put this all together to complete the following procedure, which runs in a logarithmic number of steps:\n"
   ]
  },
  {
   "cell_type": "code",
   "execution_count": 1,
   "metadata": {},
   "outputs": [
    {
     "data": {
      "text/plain": [
       "fib-iter"
      ]
     },
     "execution_count": 1,
     "metadata": {},
     "output_type": "execute_result"
    }
   ],
   "source": [
    "(define (fib n)\n",
    "  (fib-iter 1 0 0 1 n))\n",
    "(define (fib-iter a b p q count)\n",
    "  (cond ((= count 0) b)\n",
    "        ((even? count)\n",
    "         (fib-iter a\n",
    "                   b\n",
    "                   (+ (square p) (square q))\n",
    "                   (+ (* 2 p q) (square q))\n",
    "                   (/ count 2)))\n",
    "        (else (fib-iter (+ (* b q) (* a q) (* a p))\n",
    "                        (+ (* b p) (* a q))\n",
    "                        p\n",
    "                        q\n",
    "                        (- count 1)))))"
   ]
  },
  {
   "cell_type": "code",
   "execution_count": 3,
   "metadata": {},
   "outputs": [
    {
     "data": {
      "text/plain": [
       "55"
      ]
     },
     "execution_count": 3,
     "metadata": {},
     "output_type": "execute_result"
    }
   ],
   "source": [
    "(fib 10)"
   ]
  },
  {
   "cell_type": "code",
   "execution_count": null,
   "metadata": {},
   "outputs": [],
   "source": [
    "(define (fib n)\n",
    "  (fib-iter 1 0 0 1 n))\n",
    "(define (fib-iter a b p q count)\n",
    "  (cond ((= count 0) b)\n",
    "        ((even? count)\n",
    "         (fib-iter a\n",
    "                   b\n",
    "                   (+ (square p) (square q))\n",
    "                   (+ (* 2 p q) (square q))\n",
    "                   (/ count 2)))\n",
    "        (else (fib-iter (+ (* b q) (* a q) (* a p))\n",
    "                        (+ (* b p) (* a q))\n",
    "                        p\n",
    "                        q\n",
    "                        (- count 1)))))\n",
    "\n",
    "(fib 4)\n",
    "(fib-iter 1 0 0 1 4)\n",
    ";; p: fib(0), q: fib(1)\n",
    "(fib-iter 1 0 1 1 2)\n",
    ";; p: fib(1), q: fib(2)\n",
    "(fib-iter 1 0 2 3 1)\n",
    ";; p: fib(3), q: fib(4)\n",
    "(fib-iter 5 3 2 3 1)\n",
    "3\n",
    "\n",
    "(fib 64)\n",
    "(fib-iter 1 0 0 1 64)\n",
    ";; a: fib(1), b: fib(0), p: fib(0), q: fib(1)\n",
    "(fib-iter 1 0 1 1 32)\n",
    ";; a: fib(1), b: fib(0), p: fib(1), q: fib(2)\n",
    "(fib-iter 1 0 2 3 16)\n",
    ";; a: fib(1), b: fib(0), p: fib(3), q: fib(4)\n",
    "(fib-iter 1 0 13 21 8)\n",
    ";; a: fib(1), b: fib(0), p: fib(7), q: fib(8)\n",
    "(fib-iter 1 0 610 987 4)\n",
    ";; a: fib(1), b: fib(0), p: fib(15), q: fib(16)\n",
    "(fib-iter 1 0 1346269 2178309 2)\n",
    ";; a: fib(1), b: fib(0), p: fib(31), q: fib(32)\n",
    "(fib-iter 1 0 6557470319842 10610209857723 1)\n",
    ";; a: fib(1), b: fib(0), p: fib(63), q: fib(64)\n",
    "(fib-iter 17167680177565 10610209857723 6557470319842 10610209857723 1)\n",
    ";; a: fib(65), b: fib(65), p: fib(63), q: fib(64)\n",
    "10610209857723\n",
    "\n",
    "(fib 65)\n",
    "(fib-iter 1 0 0 1 65)\n",
    ";; a: fib(1), b: fib(0), p: fib(0), q: fib(1)\n",
    "(fib-iter 1 1 0 1 64)\n",
    ";; a: fib(2), b: fib(1), p: fib(0), q: fib(1)\n",
    "(fib-iter 1 1 1 1 32)\n",
    ";; a: fib(2), b: fib(1), p: fib(1), q: fib(2)\n",
    "(fib-iter 1 1 2 3 16)\n",
    ";; a: fib(2), b: fib(1), p: fib(3), q: fib(4)\n",
    "(fib-iter 1 1 13 21 8)\n",
    ";; a: fib(2), b: fib(1), p: fib(7), q: fib(8)\n",
    "(fib-iter 1 1 610 987 4)\n",
    ";; a: fib(2), b: fib(1), p: fib(15), q: fib(16)\n",
    "(fib-iter 1 1 1346269 2178309 2)\n",
    ";; a: fib(2), b: fib(1), p: fib(31), q: fib(32)\n",
    "(fib-iter 1 1 6557470319842 10610209857723 1)\n",
    ";; a: fib(2), b: fib(1), p: fib(63), q: fib(64)\n",
    "(fib-iter 27777890035288 17167680177565 6557470319842 10610209857723 1)\n",
    ";; a: fib(66), b: fib(65), p: fib(63), q: fib(64)\n",
    "17167680177565\n",
    "\n",
    "\n",
    "(fib 69)\n",
    "(fib-iter 1 0 0 1 69)\n",
    ";; a: fib(1), b: fib(0), p: fib(0), q: fib(1)\n",
    "(fib-iter 1 1 0 1 68)\n",
    ";; a: fib(2), b: fib(1), p: fib(0), q: fib(1)\n",
    "(fib-iter 1 1 1 1 34)\n",
    ";; a: fib(2), b: fib(1), p: fib(1), q: fib(2)\n",
    "(fib-iter 1 1 2 3 17)\n",
    ";; a: fib(2), b: fib(1), p: fib(3), q: fib(4)\n",
    "(fib-iter 8 5 2 3 16)\n",
    ";; a: fib(6), b: fib(5), p: fib(3), q: fib(4)\n",
    "(fib-iter 8 5 13 21 8)\n",
    ";; a: fib(6), b: fib(5), p: fib(7), q: fib(8)\n",
    "(fib-iter 8 5 610 987 4)\n",
    ";; a: fib(6), b: fib(5), p: fib(15), q: fib(16)\n",
    "(fib-iter 8 5 1346269 2178309 2)\n",
    ";; a: fib(6), b: fib(5), p: fib(31), q: fib(32)\n",
    "(fib-iter 8 5 6557470319842 10610209857723 1)\n",
    ";; a: fib(6), b: fib(5), p: fib(63), q: fib(64)\n",
    "(fib-iter 190392490709135 117669030460994 6557470319842 10610209857723 1)\n",
    ";; a: fib(70), b: fib(69), p: fib(63), q: fib(64)\n",
    "190392490709135"
   ]
  },
  {
   "cell_type": "raw",
   "metadata": {},
   "source": [
    "Simplification\n",
    "A fibonacci Q-matrix can be made from two variables. a,b represents one matrix, and p,q represents another matrix. Further, b represent the fibonacci number F_n for the first matrix and q represents the fibonacci number F_n for the other matrix. \n",
    "Thus, the two matrices are\n",
    "[[a   b  ]      [[(p+q) q]    (each element in the matrices are the \n",
    " [b (a-b)]]      [  q   p]]      fibonacci of the element\n",
    "    Q^b               Q^q        (i.e. b is Fib(b), etc.))\n",
    "\n",
    "When count is even, we square the matrix Q^q which becomes Q^2q.\n",
    "To see this, multiply Q^q by Q^q and the term that replaces q is 2pq + q^2 and the term that replaces p is p^2 + q^2.\n",
    "\n",
    "When count is odd, we multiply Q^b by Q^q which becomes Q^(b+q).\n",
    "To see this, if we multiply matrices Q^b and Q^q, the term that replaces a is a(p+q) + bq and the term that replaces b is aq + bp.\n",
    "\n",
    "An example just using Q-matrix:\n",
    "b-Mat, q-Mat, count\n",
    "Q^0  , Q^1  , 69\n",
    "Q^1  , Q^1  , 68\n",
    "Q^1  , Q^2  , 34\n",
    "Q^1  , Q^4  , 17\n",
    "Q^5  , Q^4  , 16\n",
    "Q^5  , Q^8  , 8\n",
    "Q^5  , Q^16 , 4\n",
    "Q^5  , Q^32 , 2\n",
    "Q^5  , Q^64 , 1\n",
    "Q^69 , Q^64 , 0\n",
    "Thus, in the program above, we're doing this by keep track of the minimum number of variables to represent b-Mat and q-Mat. \n",
    "\n",
    "More about Q-mats: https://mathworld.wolfram.com/FibonacciQ-Matrix.html"
   ]
  },
  {
   "cell_type": "code",
   "execution_count": 2,
   "metadata": {
    "scrolled": true
   },
   "outputs": [
    {
     "data": {
      "text/plain": [
       "190392490709135"
      ]
     },
     "execution_count": 2,
     "metadata": {},
     "output_type": "execute_result"
    }
   ],
   "source": [
    "(fib 70)"
   ]
  },
  {
   "cell_type": "code",
   "execution_count": 3,
   "metadata": {},
   "outputs": [
    {
     "data": {
      "text/plain": [
       "17167680177565"
      ]
     },
     "execution_count": 3,
     "metadata": {},
     "output_type": "execute_result"
    }
   ],
   "source": [
    "(+ 6557470319842 10610209857723)"
   ]
  },
  {
   "cell_type": "code",
   "execution_count": 4,
   "metadata": {},
   "outputs": [
    {
     "data": {
      "text/plain": [
       "17167680177565"
      ]
     },
     "execution_count": 4,
     "metadata": {},
     "output_type": "execute_result"
    }
   ],
   "source": [
    "(fib 65)"
   ]
  },
  {
   "cell_type": "raw",
   "metadata": {},
   "source": [
    "Exercise 1.20.  The process that a procedure generates is of course dependent on the rules used by the interpreter. As an example, consider the iterative gcd procedure given above. Suppose we were to interpret this procedure using normal-order evaluation, as discussed in section 1.1.5. (The normal-order-evaluation rule for if is described in exercise 1.5.) Using the substitution method (for normal order), illustrate the process generated in evaluating (gcd 206 40) and indicate the remainder operations that are actually performed. How many remainder operations are actually performed in the normal-order evaluation of (gcd 206 40)? In the applicative-order evaluation?\n",
    "(define (gcd a b)\n",
    "  (if (= b 0)\n",
    "      a\n",
    "      (gcd b (remainder a b))))"
   ]
  },
  {
   "cell_type": "raw",
   "metadata": {},
   "source": [
    "Normative is \"fully expand then reduce\" (i.e. subsitution). Thus, \n",
    "(gcd 206 40)\n",
    "(if (= 40 0) 206 (gcd 40 (remainder 206 40)))\n",
    "(if #f 206 (gcd 40 (remainder 206 40)))\n",
    "(gcd 40 (remainder 206 40))\n",
    "(if (= (remainder 206 40) 0) 40 (gcd (remainder 206 40) (remainder 40 (remainder 206 40))))\n",
    "(if (= 6 0) 40 (gcd (remainder 206 40) (remainder 40 (remainder 206 40))))\n",
    "(if #f 40 (gcd (remainder 206 40) (remainder 40 (remainder 206 40))))\n",
    "(gcd (remainder 206 40) (remainder 40 (remainder 206 40)))"
   ]
  }
 ],
 "metadata": {
  "kernelspec": {
   "display_name": "MIT Scheme",
   "language": "mit-scheme",
   "name": "mit-scheme"
  },
  "language_info": {
   "codemirror_mode": "scheme",
   "file_extension": ".scm",
   "mimetype": "application/x-scheme",
   "name": "MIT Scheme",
   "pygments_lexer": "scheme",
   "version": "9.2.1"
  }
 },
 "nbformat": 4,
 "nbformat_minor": 2
}
